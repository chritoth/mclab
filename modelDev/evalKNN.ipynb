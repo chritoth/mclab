{
 "cells": [
  {
   "cell_type": "markdown",
   "metadata": {},
   "source": [
    "# Model Developement: KNN for Activity Recognition\n",
    "\n",
    "\n",
    "## Evaluate KNN performance"
   ]
  },
  {
   "cell_type": "code",
   "execution_count": 178,
   "metadata": {
    "collapsed": false
   },
   "outputs": [],
   "source": [
    "% matplotlib inline\n",
    "import matplotlib.pyplot as plt\n",
    "import numpy as np\n",
    "from scipy import fftpack, signal\n",
    "import pandas as pd\n",
    "import sklearn as sk\n",
    "from sklearn.preprocessing import LabelEncoder\n",
    "from sklearn.model_selection import train_test_split\n",
    "from sklearn.neighbors import KNeighborsClassifier\n",
    "\n",
    "# load all the generated samples\n",
    "data = pd.DataFrame()\n",
    "data = pd.concat([data, pd.read_pickle(\"./samplesJumping.pkl\")])\n",
    "data = pd.concat([data, pd.read_pickle(\"./samplesSitting.pkl\")])\n",
    "data = pd.concat([data, pd.read_pickle(\"./samplesTurningLeft.pkl\")])\n",
    "data = pd.concat([data, pd.read_pickle(\"./samplesTurningRight.pkl\")])\n",
    "data = pd.concat([data, pd.read_pickle(\"./samplesWalking.pkl\")])\n",
    "data = pd.concat([data, pd.read_pickle(\"./samplesWaving.pkl\")])\n",
    "\n",
    "# extract data from pandas dataframe\n",
    "num_samples = data.shape[0]\n",
    "num_features = data.shape[1] - 1\n",
    "\n",
    "X = np.asarray(data.iloc[:,0:num_features])\n",
    "labels = np.asarray(data.iloc[:,num_features])\n",
    "\n",
    "labelEnc = LabelEncoder()\n",
    "y = labelEnc.fit_transform(labels)\n",
    "\n"
   ]
  },
  {
   "cell_type": "code",
   "execution_count": 215,
   "metadata": {},
   "outputs": [
    {
     "name": "stdout",
     "output_type": "stream",
     "text": [
      "[0.86666667 0.84444444 0.86666667 0.8        0.84444444 0.86666667\n 0.84444444 0.82222222 0.82222222 0.93333333 0.86666667 0.84444444\n 0.91111111 0.93333333 0.86666667 0.8        0.88888889 0.82222222\n 0.86666667 0.86666667 0.82222222 0.86666667 0.8        0.88888889\n 0.84444444 0.86666667 0.82222222 0.84444444 0.82222222 0.75555556\n 0.8        0.88888889 0.88888889 0.86666667 0.86666667 0.91111111\n 0.68888889 0.84444444 0.82222222 0.84444444 0.84444444 0.8\n 0.82222222 0.8        0.86666667 0.77777778 0.75555556 0.88888889\n 0.91111111 0.82222222]\n"
     ]
    },
    {
     "data": {
      "text/plain": [
       "0.8444444444444444"
      ]
     },
     "execution_count": 215,
     "metadata": {},
     "output_type": "execute_result"
    }
   ],
   "source": [
    "# estimate average accuracy\n",
    "\n",
    "num_epochs = 50\n",
    "scores = np.zeros((num_epochs,))\n",
    "for epoch in range(num_epochs):\n",
    "    # split data into training and test sets\n",
    "    X_train, X_test, y_train, y_test = train_test_split(X, y, test_size=0.2, shuffle=True, stratify=y)\n",
    "\n",
    "    # evaluate KNN\n",
    "    KNN = KNeighborsClassifier(n_neighbors=5, weights='uniform', algorithm='auto', p=2)\n",
    "    KNN.fit(X_train, y_train)\n",
    "    scores[epoch] = KNN.score(X_test, y_test)\n",
    "    \n",
    "print(scores)\n",
    "np.mean(scores)"
   ]
  }
 ],
 "metadata": {
  "kernelspec": {
   "display_name": "Python 3",
   "language": "python",
   "name": "python3"
  },
  "language_info": {
   "codemirror_mode": {
    "name": "ipython",
    "version": 3
   },
   "file_extension": ".py",
   "mimetype": "text/x-python",
   "name": "python",
   "nbconvert_exporter": "python",
   "pygments_lexer": "ipython3",
   "version": "3.6.4"
  }
 },
 "nbformat": 4,
 "nbformat_minor": 2
}
